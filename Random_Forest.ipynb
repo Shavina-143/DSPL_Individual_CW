{
  "cells": [
    {
      "cell_type": "code",
      "execution_count": null,
      "metadata": {
        "id": "VkpLcejDh4zV"
      },
      "outputs": [],
      "source": [
        "import pandas as pd\n",
        "import numpy as np\n",
        "from sklearn.model_selection import train_test_split, GridSearchCV\n",
        "from sklearn.tree import DecisionTreeClassifier, DecisionTreeRegressor\n",
        "from sklearn.metrics import classification_report, confusion_matrix, RocCurveDisplay, mean_absolute_error, mean_squared_error, r2_score\n",
        "import matplotlib.pyplot as plt\n",
        "from sklearn import tree\n",
        "from sklearn.ensemble import RandomForestClassifier\n",
        "from sklearn.model_selection import RandomizedSearchCV"
      ]
    },
    {
      "cell_type": "code",
      "execution_count": null,
      "metadata": {
        "id": "PsvZDmrLh-U-"
      },
      "outputs": [],
      "source": [
        "df=pd.read_csv('Train_cleaned.csv')"
      ]
    },
    {
      "cell_type": "code",
      "execution_count": null,
      "metadata": {
        "id": "61SycsaPjwLp"
      },
      "outputs": [],
      "source": [
        "target_col='cluster_category'\n",
        "y=df[target_col]\n",
        "X=df.drop(columns=[target_col])"
      ]
    },
    {
      "cell_type": "code",
      "execution_count": null,
      "metadata": {
        "id": "x4H76uscjwF1"
      },
      "outputs": [],
      "source": [
        "X.columns"
      ]
    },
    {
      "cell_type": "code",
      "execution_count": null,
      "metadata": {
        "id": "BRo_XUVZ_7Oz"
      },
      "outputs": [],
      "source": [
        "# (70% train, 30% test)\n",
        "X_train, X_test, y_train, y_test = train_test_split(X, y, test_size=0.3, random_state=42, stratify=y)"
      ]
    },
    {
      "cell_type": "code",
      "execution_count": null,
      "metadata": {
        "id": "a_1UzvUPHJbI"
      },
      "outputs": [],
      "source": [
        "from sklearn import preprocessing\n",
        "#Initiating the label encoder\n",
        "label_encoder = preprocessing.LabelEncoder()\n",
        "#Encoding the variables for easier analysis\n",
        "columns_to_encode = ['Customer_ID', 'outlet_city', 'luxury_sales', 'fresh_sales', 'dry_sales', 'Area']\n",
        "\n",
        "# Loop through each column and apply label encoding\n",
        "# Apply encoding to the entire DataFrame before splitting\n",
        "for column in columns_to_encode:\n",
        "    df[column] = label_encoder.fit_transform(df[column])\n",
        "\n",
        "# Now split the encoded DataFrame\n",
        "target_col='cluster_category'\n",
        "y=df[target_col]\n",
        "X=df.drop(columns=[target_col])\n",
        "\n",
        "# (70% train, 30% test)\n",
        "X_train, X_test, y_train, y_test = train_test_split(X, y, test_size=0.3, random_state=42, stratify=y)\n",
        "\n",
        "\n",
        "# Train Random Forest Classifier with the now encoded data\n",
        "rf = RandomForestClassifier(n_estimators=50, max_depth=5, random_state=42)\n",
        "rf.fit(X_train, y_train)\n",
        "y_pred_rf = rf.predict(X_test)"
      ]
    },
    {
      "cell_type": "code",
      "execution_count": null,
      "metadata": {
        "colab": {
          "background_save": true,
          "base_uri": "https://localhost:8080/"
        },
        "id": "51G7q1SWoP0O",
        "outputId": "b1efb78e-1c13-4e72-f450-c273bb24caff"
      },
      "outputs": [
        {
          "name": "stdout",
          "output_type": "stream",
          "text": [
            "Fitting 5 folds for each of 30 candidates, totalling 150 fits\n"
          ]
        }
      ],
      "source": [
        "from sklearn.ensemble import RandomForestClassifier\n",
        "from sklearn.model_selection import RandomizedSearchCV, StratifiedKFold\n",
        "from imblearn.over_sampling import SMOTE\n",
        "\n",
        "# SMOTE resampling\n",
        "smote = SMOTE(random_state=42)\n",
        "X_train_resampled, y_train_resampled = smote.fit_resample(X_train, y_train)\n",
        "\n",
        "# Improved hyperparameter distribution\n",
        "param_dist = {\n",
        "    'n_estimators': [100, 200, 300, 400, 500],\n",
        "    'max_depth': [10, 20, 30, None],\n",
        "    'min_samples_split': [2, 5, 10],\n",
        "    'min_samples_leaf': [1, 2, 4],\n",
        "    'max_features': ['sqrt', 'log2'],\n",
        "    'bootstrap': [True, False],\n",
        "    'ccp_alpha': [0.0, 0.01, 0.02]\n",
        "}\n",
        "\n",
        "# StratifiedKFold for class balance\n",
        "cv_strategy = StratifiedKFold(n_splits=5, shuffle=True, random_state=42)\n",
        "\n",
        "# Randomized Search with more iterations\n",
        "rf_rscv = RandomizedSearchCV(\n",
        "    RandomForestClassifier(random_state=42, class_weight='balanced'),\n",
        "    param_distributions=param_dist,\n",
        "    n_iter=30,                      # increase to explore more combinations\n",
        "    cv=cv_strategy,\n",
        "    scoring='balanced_accuracy',\n",
        "    n_jobs=-1,\n",
        "    verbose=1,\n",
        "    random_state=42\n",
        ")\n",
        "\n",
        "# Fit model\n",
        "rf_rscv.fit(X_train_resampled, y_train_resampled)\n"
      ]
    },
    {
      "cell_type": "code",
      "execution_count": null,
      "metadata": {
        "id": "32W-h9cHweYQ"
      },
      "outputs": [],
      "source": [
        "rf_rscv.fit(X_train, y_train)\n",
        "print(\"Best Parameters:\", rf_rscv.best_params_)"
      ]
    },
    {
      "cell_type": "code",
      "execution_count": null,
      "metadata": {
        "id": "vzMHwYqR7Rm_"
      },
      "outputs": [],
      "source": [
        "best_model= rf_rscv.best_estimator_\n",
        "y_pred_rf = best_model.predict(X_test)"
      ]
    },
    {
      "cell_type": "code",
      "execution_count": null,
      "metadata": {
        "id": "T8fYaz727vu_"
      },
      "outputs": [],
      "source": [
        "from sklearn.metrics import accuracy_score\n",
        "accuracy_best = accuracy_score(y_test, y_pred_rf)\n",
        "print(f\"Best Model Accuracy: {accuracy_best * 100:.2f}%\")"
      ]
    },
    {
      "cell_type": "code",
      "execution_count": null,
      "metadata": {
        "id": "WQli4eeer-3J"
      },
      "outputs": [],
      "source": [
        "# Classification model after optimizing\n",
        "y_pred_rf = best_model.predict(X_test)\n",
        "print(\"Optimized Classification Report:\\n\", classification_report(y_test, y_pred_rf))"
      ]
    },
    {
      "cell_type": "code",
      "execution_count": null,
      "metadata": {
        "id": "JI-dPrkYsP3w"
      },
      "outputs": [],
      "source": [
        "rf_best = rf_rscv.best_estimator_"
      ]
    },
    {
      "cell_type": "code",
      "execution_count": null,
      "metadata": {
        "id": "zmuKQP2vsPsC"
      },
      "outputs": [],
      "source": [
        "print(rf_rscv.best_params_)"
      ]
    },
    {
      "cell_type": "code",
      "execution_count": null,
      "metadata": {
        "id": "2PWJoM-Csj2M"
      },
      "outputs": [],
      "source": [
        "#prediction on the test data\n",
        "y_pred_rf = rf_best.predict(X_test)"
      ]
    },
    {
      "cell_type": "code",
      "execution_count": null,
      "metadata": {
        "id": "KVXF6V67s2bl"
      },
      "outputs": [],
      "source": [
        "from sklearn.metrics import ConfusionMatrixDisplay"
      ]
    },
    {
      "cell_type": "code",
      "execution_count": null,
      "metadata": {
        "id": "DeBtZtoMsjyw"
      },
      "outputs": [],
      "source": [
        "print(\"confusion_matrix for RF\")\n",
        "rf_cm=confusion_matrix(y_test,y_pred_rf)\n",
        "disp=ConfusionMatrixDisplay(confusion_matrix=rf_cm,display_labels = rf_best.classes_)\n",
        "disp.plot()"
      ]
    },
    {
      "cell_type": "code",
      "execution_count": null,
      "metadata": {
        "id": "EProzA17uOkE"
      },
      "outputs": [],
      "source": [
        "from sklearn.model_selection import learning_curve\n",
        "# learning curve\n",
        "train_sizes, train_scores, test_scores = learning_curve(\n",
        "    best_model, X_train, y_train,\n",
        "    cv=5,\n",
        "    scoring='accuracy',\n",
        "    train_sizes=np.linspace(0.1, 1.0, 5),\n",
        "    n_jobs=-1\n",
        ")\n",
        "\n",
        "# mean and standard deviation\n",
        "train_mean = np.mean(train_scores, axis=1)\n",
        "train_std = np.std(train_scores, axis=1)\n",
        "test_mean = np.mean(test_scores, axis=1)\n",
        "test_std = np.std(test_scores, axis=1)"
      ]
    },
    {
      "cell_type": "code",
      "execution_count": null,
      "metadata": {
        "id": "rj3RWD6h_ffw"
      },
      "outputs": [],
      "source": [
        "# Plot training accuracy\n",
        "plt.plot(train_sizes, train_mean, 'o-', color=\"blue\", label=\"Training Score\")\n",
        "plt.fill_between(train_sizes, train_mean - train_std, train_mean + train_std, alpha=0.1, color=\"blue\")\n",
        "# Plot validation accuracy\n",
        "plt.plot(train_sizes, test_mean, 'o-', color=\"red\", label=\"Validation Score\")\n",
        "plt.fill_between(train_sizes, test_mean - test_std, test_mean + test_std, alpha=0.1, color=\"red\")\n",
        "plt.xlabel(\"Training Examples\")\n",
        "plt.ylabel(\"Accuracy\")\n",
        "plt.title(\"Learning Curve for Random Forest\")\n",
        "plt.legend(loc=\"lower right\")\n",
        "plt.grid()\n",
        "plt.show()"
      ]
    },
    {
      "cell_type": "code",
      "execution_count": null,
      "metadata": {
        "id": "AuROCHlVtyEa"
      },
      "outputs": [],
      "source": [
        "from sklearn.metrics import accuracy_score\n",
        "\n",
        "# Train Accuracy\n",
        "train_accuracy = accuracy_score(y_train, rf_best.predict(X_train))\n",
        "print(f\"Train Accuracy: {train_accuracy:.4f}\")\n",
        "\n",
        "# Test Accuracy\n",
        "test_accuracy = accuracy_score(y_test, rf_best.predict(X_test))\n",
        "print(f\"Test Accuracy: {test_accuracy:.4f}\")"
      ]
    },
    {
      "cell_type": "code",
      "execution_count": null,
      "metadata": {
        "id": "wrTbOSKBu-EI"
      },
      "outputs": [],
      "source": [
        "# Feature Importance\n",
        "importances = rf_best.feature_importances_\n",
        "feature_names = X.columns\n",
        "feature_importance_df = pd.DataFrame({'Feature': feature_names, 'Importance': importances})\n",
        "feature_importance_df = feature_importance_df.sort_values(by='Importance', ascending=False)\n",
        "print(\"Feature Importance:\\n\", feature_importance_df)"
      ]
    },
    {
      "cell_type": "code",
      "execution_count": null,
      "metadata": {
        "id": "GT2VF68mnn-a"
      },
      "outputs": [],
      "source": [
        "# Feature Importance Plot\n",
        "plt.figure(figsize=(12, 6))\n",
        "plt.barh(feature_importance_df['Feature'], feature_importance_df['Importance'], color='skyblue')\n",
        "plt.xlabel('Importance')\n",
        "plt.ylabel('Feature')\n",
        "plt.title('Feature Importance in Random Forest')\n",
        "plt.gca().invert_yaxis()\n",
        "plt.show()"
      ]
    },
    {
      "cell_type": "code",
      "execution_count": null,
      "metadata": {
        "id": "MAFUXLF3uCTK"
      },
      "outputs": [],
      "source": [
        "from sklearn.metrics import roc_curve, auc\n",
        "from sklearn.preprocessing import label_binarize\n",
        "\n",
        "# Binarize the target variable for multiclass ROC\n",
        "y_test_bin = label_binarize(y_test, classes=rf_rscv.classes_)\n",
        "y_pred_prob = rf_rscv.best_estimator_.predict_proba(X_test)\n",
        "\n",
        "# Calculate and plot ROC curve for each class\n",
        "plt.figure(figsize=(8, 6))\n",
        "for i in range(y_test_bin.shape[1]):\n",
        "    fpr, tpr, _ = roc_curve(y_test_bin[:, i], y_pred_prob[:, i])\n",
        "    roc_auc = auc(fpr, tpr)\n",
        "    plt.plot(fpr, tpr, lw=2, label=f'Class {rf_rscv.classes_[i]} (AUC = {roc_auc:.2f})')\n",
        "\n",
        "# Plot chance level (random classifier)\n",
        "plt.plot([0, 1], [0, 1], color='gray', linestyle='--')\n",
        "plt.xlim([0.0, 1.0])\n",
        "plt.ylim([0.0, 1.05])\n",
        "plt.xlabel('False Positive Rate')\n",
        "plt.ylabel('True Positive Rate')\n",
        "plt.title('Receiver Operating Characteristic (ROC) Curve')\n",
        "plt.legend(loc='lower right')\n",
        "plt.show()"
      ]
    },
    {
      "cell_type": "code",
      "execution_count": null,
      "metadata": {
        "id": "YEj-0SOUOvSq"
      },
      "outputs": [],
      "source": [
        "comparison_df = pd.DataFrame({'Actual': y_test, 'Predicted': y_pred_rf})\n",
        "print(comparison_df.head(10))"
      ]
    }
  ],
  "metadata": {
    "colab": {
      "provenance": []
    },
    "kernelspec": {
      "display_name": "Python 3",
      "name": "python3"
    },
    "language_info": {
      "name": "python"
    }
  },
  "nbformat": 4,
  "nbformat_minor": 0
}